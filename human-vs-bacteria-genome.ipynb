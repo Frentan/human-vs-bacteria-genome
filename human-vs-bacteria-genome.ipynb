{
 "cells": [
  {
   "cell_type": "markdown",
   "metadata": {},
   "source": [
    "# Comparing human and bacteria (E. coli) genome sequence (source: NCBI):"
   ]
  },
  {
   "cell_type": "code",
   "execution_count": null,
   "metadata": {},
   "outputs": [],
   "source": []
  },
  {
   "cell_type": "code",
   "execution_count": null,
   "metadata": {},
   "outputs": [],
   "source": [
    "input = open(\"bacteria.fasta\").read()\n",
    "output = open(\"bacteria.html\",\"w\")\n",
    "\n",
    "count = {}\n",
    "\n",
    "for i in ['A', 'T', 'C', 'G']\n",
    "    for j in ['A', 'T', 'C', 'G']\n",
    "        count[i+j] = 0\n",
    "\n",
    "for k in range(len(input))\n",
    "    count[input[k]+input[k+1]] += 1"
   ]
  }
 ],
 "metadata": {
  "kernelspec": {
   "display_name": "Python 3",
   "language": "python",
   "name": "python3"
  },
  "language_info": {
   "codemirror_mode": {
    "name": "ipython",
    "version": 3
   },
   "file_extension": ".py",
   "mimetype": "text/x-python",
   "name": "python",
   "nbconvert_exporter": "python",
   "pygments_lexer": "ipython3",
   "version": "3.7.6"
  }
 },
 "nbformat": 4,
 "nbformat_minor": 4
}
